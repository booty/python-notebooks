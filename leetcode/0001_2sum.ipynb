{
 "cells": [
  {
   "cell_type": "markdown",
   "metadata": {},
   "source": [
    "# 1. Two Sum\n",
    "\n",
    "Given an array of integers nums and an integer target, return indices of the two numbers such that they add up to target.\n",
    "\n",
    "You may assume that each input would have exactly one solution, and you may not use the same element twice. You can return the answer in any order.\n",
    "\n",
    "### Example 1:\n",
    "\n",
    "Input: nums = [2,7,11,15], target = 9\n",
    "Output: [0,1]\n",
    "Explanation: Because nums[0] + nums[1] == 9, we return [0, 1].\n",
    "\n",
    "### Example 2:\n",
    "\n",
    "Input: nums = [3,2,4], target = 6\n",
    "Output: [1,2]\n",
    "\n",
    "### Example 3:\n",
    "\n",
    "Input: nums = [3,3], target = 6\n",
    "Output: [0,1]\n",
    "\n",
    "Constraints:\n",
    "\n",
    "- 2 <= nums.length <= 104\n",
    "- -109 <= nums[i] <= 109\n",
    "- -109 <= target <= 109\n",
    "- Only one valid answer exists.\n"
   ]
  },
  {
   "cell_type": "code",
   "execution_count": 26,
   "metadata": {},
   "outputs": [
    {
     "name": "stdout",
     "output_type": "stream",
     "text": [
      "[0, 1]\n",
      "[1, 2]\n",
      "[0, 1]\n"
     ]
    }
   ],
   "source": [
    "from typing import List\n",
    "\n",
    "\n",
    "def two_sum_naive(nums: List[int], target: int) -> List[int]:\n",
    "    for i in range(0, len(nums)):\n",
    "        for j in range(0, len(nums)):\n",
    "            if (i != j) and (nums[i] + nums[j] == target):\n",
    "                return [i, j]\n",
    "\n",
    "\n",
    "print(two_sum_naive(nums=[2, 7, 11, 15], target=9))\n",
    "print(two_sum_naive(nums=[3, 2, 4], target=6))\n",
    "print(two_sum_naive(nums=[3, 3], target=6))"
   ]
  },
  {
   "cell_type": "code",
   "execution_count": 42,
   "metadata": {},
   "outputs": [
    {
     "name": "stdout",
     "output_type": "stream",
     "text": [
      "[0, 1]\n",
      "[1, 2]\n",
      "[0, 1]\n"
     ]
    }
   ],
   "source": [
    "def two_sum_hash(nums: List[int], target: int) -> List[int]:\n",
    "    vals = {}\n",
    "    for index, x in enumerate(nums):\n",
    "        complement = target - x\n",
    "        try:\n",
    "            if vals[complement] is not None:\n",
    "                return [vals[complement], index]\n",
    "            print\n",
    "        except KeyError:\n",
    "            vals[x] = index\n",
    "\n",
    "\n",
    "print(two_sum_hash(nums=[2, 7, 11, 15], target=9))\n",
    "print(two_sum_hash(nums=[3, 2, 4], target=6))\n",
    "print(two_sum_hash(nums=[3, 3], target=6))"
   ]
  },
  {
   "cell_type": "code",
   "execution_count": 46,
   "metadata": {},
   "outputs": [
    {
     "name": "stdout",
     "output_type": "stream",
     "text": [
      "[0, 1]\n",
      "[1, 2]\n",
      "[0, 1]\n"
     ]
    }
   ],
   "source": [
    "def two_sum_hash_mini(nums: List[int], target: int) -> List[int]:\n",
    "    positions = {}\n",
    "    for i, x in enumerate(nums):\n",
    "        if target - x in positions:\n",
    "            return [positions[target - x], i]\n",
    "        positions[x] = i\n",
    "\n",
    "\n",
    "print(two_sum_hash_mini(nums=[2, 7, 11, 15], target=9))\n",
    "print(two_sum_hash_mini(nums=[3, 2, 4], target=6))\n",
    "print(two_sum_hash_mini(nums=[3, 3], target=6))"
   ]
  },
  {
   "cell_type": "code",
   "execution_count": null,
   "metadata": {},
   "outputs": [],
   "source": []
  }
 ],
 "metadata": {
  "kernelspec": {
   "display_name": "venv",
   "language": "python",
   "name": "python3"
  },
  "language_info": {
   "codemirror_mode": {
    "name": "ipython",
    "version": 3
   },
   "file_extension": ".py",
   "mimetype": "text/x-python",
   "name": "python",
   "nbconvert_exporter": "python",
   "pygments_lexer": "ipython3",
   "version": "3.12.2"
  }
 },
 "nbformat": 4,
 "nbformat_minor": 2
}
