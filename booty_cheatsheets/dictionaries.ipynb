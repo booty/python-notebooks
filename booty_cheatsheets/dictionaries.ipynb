{
 "cells": [
  {
   "cell_type": "markdown",
   "metadata": {},
   "source": [
    "# Dictionaries\n"
   ]
  },
  {
   "cell_type": "markdown",
   "metadata": {},
   "source": [
    "## Non-Existent Keys in Standard Dict\n"
   ]
  },
  {
   "cell_type": "code",
   "execution_count": 10,
   "metadata": {},
   "outputs": [
    {
     "name": "stdout",
     "output_type": "stream",
     "text": [
      "San Diego has a baseball team called Padres\n",
      "Los Angeles has a baseball team called Dodgers\n",
      "San Francisco has a baseball team called Giants\n",
      "New York apparently does not have a baseball team\n",
      "Chicago apparently does not have a baseball team\n",
      "San Diego has a baseball team called Padres\n",
      "Los Angeles has a baseball team called Dodgers\n",
      "San Francisco has a baseball team called Giants\n",
      "New York apparently does not have a baseball team\n",
      "Chicago apparently does not have a baseball team\n"
     ]
    }
   ],
   "source": [
    "from typing import List\n",
    "\n",
    "baseball_teams = {\n",
    "    \"San Diego\": \"Padres\",\n",
    "    \"Los Angeles\": \"Dodgers\",\n",
    "    \"San Francisco\": \"Giants\",\n",
    "}\n",
    "cities = [\"San Diego\", \"Los Angeles\", \"San Francisco\", \"New York\", \"Chicago\"]\n",
    "\n",
    "# Look before you leap\n",
    "for city in cities:\n",
    "    if city in baseball_teams:\n",
    "        print(f\"{city} has a baseball team called {baseball_teams[city]}\")\n",
    "    else:\n",
    "        print(f\"{city} apparently does not have a baseball team\")\n",
    "\n",
    "# Ask forgiveness, not permission\n",
    "for city in cities:\n",
    "    try:\n",
    "        print(f\"{city} has a baseball team called {baseball_teams[city]}\")\n",
    "    except KeyError:\n",
    "        print(f\"{city} apparently does not have a baseball team\")"
   ]
  },
  {
   "cell_type": "markdown",
   "metadata": {},
   "source": [
    "## DefaultDict\n",
    "\n",
    "- Define a default value as a value or lambda\n",
    "- Remainder of functionality the same as standard `dict`\n",
    "- Useful for histograms\n"
   ]
  },
  {
   "cell_type": "code",
   "execution_count": 14,
   "metadata": {},
   "outputs": [
    {
     "name": "stdout",
     "output_type": "stream",
     "text": [
      "defaultdict(<class 'int'>, {'John': 1, 'Bob': 2, 'Bill': 2, 'Harry': 1})\n"
     ]
    }
   ],
   "source": [
    "# Histogram\n",
    "from collections import defaultdict\n",
    "\n",
    "names = [\n",
    "    \"John\",\n",
    "    \"Bob\",\n",
    "    \"Bill\",\n",
    "    \"Bob\",\n",
    "    \"Bill\",\n",
    "    \"Harry\",\n",
    "]\n",
    "counts = defaultdict(int)\n",
    "for name in names:\n",
    "    counts[name] += 1\n",
    "print(counts)"
   ]
  }
 ],
 "metadata": {
  "kernelspec": {
   "display_name": "venv",
   "language": "python",
   "name": "python3"
  },
  "language_info": {
   "codemirror_mode": {
    "name": "ipython",
    "version": 3
   },
   "file_extension": ".py",
   "mimetype": "text/x-python",
   "name": "python",
   "nbconvert_exporter": "python",
   "pygments_lexer": "ipython3",
   "version": "3.12.2"
  }
 },
 "nbformat": 4,
 "nbformat_minor": 2
}
