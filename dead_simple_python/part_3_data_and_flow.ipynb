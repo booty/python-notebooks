{
 "cells": [
  {
   "cell_type": "markdown",
   "id": "fb1422c2",
   "metadata": {},
   "source": [
    "# Part III: DATA AND FLOW\n",
    "\n",
    "From \"Dead Simple Python\"\n"
   ]
  },
  {
   "cell_type": "markdown",
   "id": "0671d408",
   "metadata": {},
   "source": [
    "## for Loops\n"
   ]
  },
  {
   "cell_type": "code",
   "execution_count": 12,
   "id": "84b60aa2",
   "metadata": {},
   "outputs": [
    {
     "name": "stdout",
     "output_type": "stream",
     "text": [
      "One\n",
      "Two\n",
      "Seven\n"
     ]
    }
   ],
   "source": [
    "# Simple for loop\n",
    "numbers = [\"One\", \"Two\", \"Seven\"]\n",
    "for number in numbers:\n",
    "    print(number)"
   ]
  },
  {
   "cell_type": "code",
   "execution_count": null,
   "id": "44113967",
   "metadata": {},
   "outputs": [],
   "source": [
    "# loop through a tuple of ice cream flavors\n",
    "flavors = (\"Vanilla\", \"Chocolate\", \"Strawberry\")\n",
    "for flavor in flavors:\n",
    "    print(flavor)"
   ]
  },
  {
   "cell_type": "markdown",
   "id": "0b403bae-4fdf-4bed-abf5-c362de2eb6a8",
   "metadata": {},
   "source": [
    "## Lists and Tuples\n",
    "\n",
    "- Tuples are like lists but immutable\n",
    "- Tuples are typically used for heterogenous data\n",
    "\n",
    "## Deques\n",
    "\n",
    "- Used for queues\n",
    "- Optimized access for first and last items\n"
   ]
  },
  {
   "cell_type": "code",
   "execution_count": 13,
   "id": "00d93e49-b678-4a68-9b9b-88a61a752cad",
   "metadata": {},
   "outputs": [
    {
     "name": "stdout",
     "output_type": "stream",
     "text": [
      "deque(['Andy', 'Bob', 'Carol', 'Simon'])\n",
      "Andy\n",
      "deque(['Line Cutting Larry', 'Bob', 'Carol', 'Simon'])\n",
      "Simon\n"
     ]
    }
   ],
   "source": [
    "from collections import deque\n",
    "\n",
    "customers = deque([\"Andy\", \"Bob\", \"Carol\"])\n",
    "customers.append(\"Simon\")\n",
    "print(customers)  # pops andy\n",
    "print(customers.popleft())\n",
    "customers.appendleft(\"Line Cutting Larry\")\n",
    "print(customers)\n",
    "print(customers.pop())  # pops Simon (from the end/right)"
   ]
  },
  {
   "cell_type": "markdown",
   "id": "3bd26a1d-fd56-4d1e-93bc-6c5d56b6b472",
   "metadata": {},
   "source": [
    "## Sets and Frozensets\n",
    "\n",
    "- Pretty much what you think\n",
    "- Sets are mutable\n",
    "- Frozensets are immutable\n",
    "- Unordered\n",
    "- All items guaranteed to be unique\n",
    "- Support set mathematics\n",
    "  - `|`, `&`, `-`, `^`\n"
   ]
  },
  {
   "cell_type": "code",
   "execution_count": 14,
   "id": "8239e63f-432e-4965-a234-dafa880719ee",
   "metadata": {},
   "outputs": [
    {
     "name": "stdout",
     "output_type": "stream",
     "text": [
      "{'Panthers', 'Bears', 'Flyers', 'Phillies', 'Rangers', 'Cardinals', 'Blue Jays'}\n",
      "{'Rangers'}\n",
      "{'Bears', 'Flyers', 'Phillies', 'Blue Jays'}\n"
     ]
    }
   ],
   "source": [
    "# Sets are defined with {}\n",
    "hockey_teams = {\"Flyers\", \"Rangers\", \"Panthers\"}\n",
    "baseball_teams = {\"Rangers\", \"Blue Jays\", \"Phillies\", \"Cardinals\"}\n",
    "football_teams = {\"Cardinals\", \"Panthers\", \"Bears\"}\n",
    "\n",
    "print(hockey_teams | baseball_teams | football_teams)\n",
    "print(hockey_teams & baseball_teams)\n",
    "print(hockey_teams ^ baseball_teams ^ football_teams)"
   ]
  },
  {
   "cell_type": "code",
   "execution_count": 21,
   "id": "459e2abf",
   "metadata": {},
   "outputs": [
    {
     "name": "stdout",
     "output_type": "stream",
     "text": [
      "{'Bill', 'Joe', 'Bob'}\n"
     ]
    }
   ],
   "source": [
    "# uniquify a list by converting it to a set\n",
    "names = [\"Bob\", \"Bill\", \"Bob\", \"Joe\", \"Bill\", \"Bob\", \"Bill\", \"Joe\"]\n",
    "unique = set(names)\n",
    "print(unique)"
   ]
  },
  {
   "cell_type": "markdown",
   "id": "2d00f6b0-6013-4757-bfbf-866676c4469e",
   "metadata": {},
   "source": [
    "## Dictionaries\n",
    "\n",
    "- Gonna see a lot of these\n",
    "- `dict`\n",
    "  - since 3.7 this is ordered as well\n",
    "- `defaultdict`\n",
    "  - Lets you specify a default value\n",
    "- `OrderedDict`\n",
    "  - More optimized for reordering\n",
    "- `Counter`\n",
    "  - Specifically for counting hashable objects\n"
   ]
  },
  {
   "cell_type": "code",
   "execution_count": 22,
   "id": "e335f12b-3741-4c50-8eb2-bd0763fa04f5",
   "metadata": {},
   "outputs": [
    {
     "name": "stdout",
     "output_type": "stream",
     "text": [
      "Your total is 1.95\n",
      "That item is not on the menu.\n",
      "Your total is 1.95\n",
      "That item is not on the menu.\n"
     ]
    }
   ],
   "source": [
    "# \"Easier to Ask Forgiveness than Permission\" Pattern\n",
    "menu = {\"drip\": 1.95, \"cappuccino\": 2.95, \"americano\": 2.49}\n",
    "\n",
    "\n",
    "def checkout(order):\n",
    "    try:\n",
    "        print(f\"Your total is { menu[order]}\")\n",
    "    except KeyError:\n",
    "        print(\"That item is not on the menu.\")\n",
    "\n",
    "\n",
    "checkout(\"drip\")  # prints \"Your total is 1.95\"\n",
    "checkout(\"tea\")  # prints \"That item is not on the menu.\"\n",
    "\n",
    "\n",
    "# \"Look Before You Leap\" Pattern\n",
    "def checkout(order):\n",
    "    if order in menu:\n",
    "        print(f\"Your total is {menu[order]}\")\n",
    "    else:\n",
    "        print(\"That item is not on the menu.\")\n",
    "\n",
    "\n",
    "checkout(\"drip\")  # prints \"Your total is 1.95\"\n",
    "checkout(\"tea\")  # prints \"That item is not on the menu.\""
   ]
  },
  {
   "cell_type": "markdown",
   "id": "4aeb7522",
   "metadata": {},
   "source": [
    "## Unpacking Collections\n",
    "\n",
    "- All collections can be unpacked\n"
   ]
  },
  {
   "cell_type": "code",
   "execution_count": 23,
   "id": "e5f7926a",
   "metadata": {},
   "outputs": [
    {
     "name": "stdout",
     "output_type": "stream",
     "text": [
      "Andy\n",
      "Bob\n",
      "Carol\n"
     ]
    }
   ],
   "source": [
    "customers = (\"Andy\", \"Bob\", \"Carol\")\n",
    "first, second, third = customers\n",
    "print(first)  # prints \"Andy\"\n",
    "print(second)  # prints \"Bob\"\n",
    "print(third)  # prints \"Carol\""
   ]
  },
  {
   "cell_type": "markdown",
   "id": "80cc4398",
   "metadata": {},
   "source": [
    "### Unpacking Lists and List-Like Things\n"
   ]
  },
  {
   "cell_type": "code",
   "execution_count": 24,
   "id": "152cf8df",
   "metadata": {},
   "outputs": [
    {
     "name": "stdout",
     "output_type": "stream",
     "text": [
      "['Bob', 'Carol']\n",
      "Andy\n",
      "Carol\n"
     ]
    }
   ],
   "source": [
    "customers = (\"Andy\", \"Bob\", \"Carol\")\n",
    "\n",
    "# errors out because we only have three customers\n",
    "# first, second, third, fourth = customers\n",
    "\n",
    "# errors out because we have three customers but only two receivers\n",
    "# first, second = customers\n",
    "\n",
    "# works, but it sucks because we'd have to know that we have exactly three customers\n",
    "first, second, _ = customers\n",
    "\n",
    "# now we're cooking\n",
    "first, *_ = customers\n",
    "first, *rest = customers\n",
    "print(rest)  # prints ['Bob', 'Carol']\n",
    "\n",
    "# just give me the last one\n",
    "*_, last = customers\n",
    "\n",
    "# just give me first and last because fuck Bob\n",
    "first, *_, last = customers\n",
    "print(first)  # prints \"Andy\"\n",
    "print(last)  # prints \"Carol\""
   ]
  },
  {
   "cell_type": "markdown",
   "id": "8468b592",
   "metadata": {},
   "source": [
    "### Unpacking Dictionaries\n"
   ]
  },
  {
   "cell_type": "code",
   "execution_count": 25,
   "id": "1d49c070",
   "metadata": {},
   "outputs": [
    {
     "name": "stdout",
     "output_type": "stream",
     "text": [
      "Ruth\n",
      "Schmidt\n",
      "Aaron\n",
      "714\n",
      "548\n",
      "755\n",
      "Ruth socked 714 dingers\n"
     ]
    }
   ],
   "source": [
    "home_runs = {\"Ruth\": 714, \"Schmidt\": 548, \"Aaron\": 755}\n",
    "\n",
    "a, b, c = home_runs\n",
    "print(a)  # Ruth\n",
    "print(b)  # Schmidt\n",
    "print(c)  # Aaron\n",
    "\n",
    "a, b, c = home_runs.values()\n",
    "print(a)  # 714\n",
    "print(b)  # 548\n",
    "print(c)  # 755\n",
    "\n",
    "(name1, hr1), *_ = home_runs.items()  # note that we need to use items() here\n",
    "print(f\"{name1} socked {hr1} dingers\")"
   ]
  },
  {
   "cell_type": "markdown",
   "id": "e154a8e1",
   "metadata": {},
   "source": [
    "## Chapter 10: Generators and Comprehensions\n",
    "\n",
    "Collections are eager. Very eager.\n",
    "\n",
    "```python\n",
    "import time\n",
    "sleepy = ['no pause', time.sleep(1), time.sleep(2)]\n",
    "# ...three second pause...\n",
    "print(sleepy[0])  # prints 'no pause'\n",
    "```\n",
    "\n",
    "- Generators are the solution, maybe probably\n",
    "- On each iteration,\n",
    "  - Generator will run up to a `yield` statement\n",
    "  - Then it will wait for another call to `__next__()`\n"
   ]
  },
  {
   "cell_type": "code",
   "execution_count": 26,
   "id": "2cb11003",
   "metadata": {},
   "outputs": [
    {
     "name": "stdout",
     "output_type": "stream",
     "text": [
      "Congratulations! Your license plate is AAA 000\n",
      "Congratulations! Your license plate is AAA 001\n",
      "Congratulations! Your license plate is AAA 002\n"
     ]
    }
   ],
   "source": [
    "from itertools import product\n",
    "from string import ascii_uppercase\n",
    "\n",
    "\n",
    "def gen_license_plates():\n",
    "    for letters in product(ascii_uppercase, repeat=3):\n",
    "        letters = \"\".join(letters)\n",
    "        if letters == \"GOV\":\n",
    "            continue\n",
    "\n",
    "        for numbers in range(1000):\n",
    "            yield f\"{letters} {numbers:03}\"\n",
    "\n",
    "\n",
    "# would print every possible plate\n",
    "# for plate in gen_license_plates():\n",
    "#    print(plate)\n",
    "\n",
    "# more realistic scenario\n",
    "plates = gen_license_plates()\n",
    "\n",
    "\n",
    "def new_registration():\n",
    "    plate = next(plates)\n",
    "    print(\"Congratulations! Your license plate is\", plate)\n",
    "\n",
    "\n",
    "# iterate 3 times\n",
    "for _ in range(3):\n",
    "    new_registration()\n",
    "\n",
    "plates.close()  # good practice"
   ]
  },
  {
   "cell_type": "markdown",
   "id": "5cb2f04c",
   "metadata": {},
   "source": [
    "### Generator Expressions\n"
   ]
  },
  {
   "cell_type": "code",
   "execution_count": 27,
   "id": "2a35ef3b",
   "metadata": {},
   "outputs": [],
   "source": [
    "mini_license_plates = (f\"ABC {n:03}\" for n in range(1000))\n",
    "\n",
    "# would print all 1000 plates\n",
    "# for plate in mini_license_plates:\n",
    "#    print(plate)"
   ]
  },
  {
   "cell_type": "markdown",
   "id": "201ba787",
   "metadata": {},
   "source": [
    "### List Comprehensions\n",
    "\n",
    "- Eager, not lazy like generator expressions\n",
    "- It's just a type of generator expression\n"
   ]
  },
  {
   "cell_type": "code",
   "execution_count": 28,
   "id": "ad09ef0e",
   "metadata": {},
   "outputs": [
    {
     "name": "stdout",
     "output_type": "stream",
     "text": [
      "There are 2 orders for drip coffee.\n"
     ]
    }
   ],
   "source": [
    "orders = [\n",
    "    \"cold brew\",\n",
    "    \"lemongrass tea\",\n",
    "    \"chai latte\",\n",
    "    \"medium drip\",\n",
    "    \"latte\",\n",
    "    \"french press\",\n",
    "    \"mocha cappuccino\",\n",
    "    \"pumpkin spice\",\n",
    "    \"double-shot espresso\",\n",
    "    \"dark roast drip\",\n",
    "    \"americano\",\n",
    "]\n",
    "\n",
    "drip_orders = [order for order in orders if \"drip\" in order]\n",
    "print(f\"There are {len(drip_orders)} orders for drip coffee.\")"
   ]
  }
 ],
 "metadata": {
  "kernelspec": {
   "display_name": "Python 3 (ipykernel)",
   "language": "python",
   "name": "python3"
  },
  "language_info": {
   "codemirror_mode": {
    "name": "ipython",
    "version": 3
   },
   "file_extension": ".py",
   "mimetype": "text/x-python",
   "name": "python",
   "nbconvert_exporter": "python",
   "pygments_lexer": "ipython3",
   "version": "3.12.2"
  }
 },
 "nbformat": 4,
 "nbformat_minor": 5
}
